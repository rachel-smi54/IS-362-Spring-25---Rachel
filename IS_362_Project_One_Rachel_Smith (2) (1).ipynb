{
 "cells": [
  {
   "cell_type": "code",
   "execution_count": 1,
   "metadata": {},
   "outputs": [
    {
     "name": "stdout",
     "output_type": "stream",
     "text": [
      "Requirement already satisfied: matplotlib in c:\\users\\rache\\appdata\\local\\programs\\python\\python313\\lib\\site-packages (3.10.6)\n",
      "Requirement already satisfied: contourpy>=1.0.1 in c:\\users\\rache\\appdata\\local\\programs\\python\\python313\\lib\\site-packages (from matplotlib) (1.3.3)\n",
      "Requirement already satisfied: cycler>=0.10 in c:\\users\\rache\\appdata\\local\\programs\\python\\python313\\lib\\site-packages (from matplotlib) (0.12.1)\n",
      "Requirement already satisfied: fonttools>=4.22.0 in c:\\users\\rache\\appdata\\local\\programs\\python\\python313\\lib\\site-packages (from matplotlib) (4.60.0)\n",
      "Requirement already satisfied: kiwisolver>=1.3.1 in c:\\users\\rache\\appdata\\local\\programs\\python\\python313\\lib\\site-packages (from matplotlib) (1.4.9)\n",
      "Requirement already satisfied: numpy>=1.23 in c:\\users\\rache\\appdata\\local\\programs\\python\\python313\\lib\\site-packages (from matplotlib) (2.2.2)\n",
      "Requirement already satisfied: packaging>=20.0 in c:\\users\\rache\\appdata\\roaming\\python\\python313\\site-packages (from matplotlib) (24.2)\n",
      "Requirement already satisfied: pillow>=8 in c:\\users\\rache\\appdata\\local\\programs\\python\\python313\\lib\\site-packages (from matplotlib) (11.3.0)\n",
      "Requirement already satisfied: pyparsing>=2.3.1 in c:\\users\\rache\\appdata\\local\\programs\\python\\python313\\lib\\site-packages (from matplotlib) (3.2.4)\n",
      "Requirement already satisfied: python-dateutil>=2.7 in c:\\users\\rache\\appdata\\roaming\\python\\python313\\site-packages (from matplotlib) (2.9.0.post0)\n",
      "Requirement already satisfied: six>=1.5 in c:\\users\\rache\\appdata\\roaming\\python\\python313\\site-packages (from python-dateutil>=2.7->matplotlib) (1.17.0)\n"
     ]
    },
    {
     "name": "stderr",
     "output_type": "stream",
     "text": [
      "\n",
      "[notice] A new release of pip is available: 25.0 -> 25.2\n",
      "[notice] To update, run: python.exe -m pip install --upgrade pip\n"
     ]
    }
   ],
   "source": [
    "!pip install matplotlib"
   ]
  },
  {
   "cell_type": "code",
   "execution_count": 2,
   "metadata": {
    "id": "Y1j_yP5ExRrj"
   },
   "outputs": [],
   "source": [
    "import csv\n",
    "import pandas as pd\n",
    "import numpy as np\n",
    "import matplotlib.pyplot as plt"
   ]
  },
  {
   "cell_type": "code",
   "execution_count": 3,
   "metadata": {
    "id": "Wy7KtbJY2sfv"
   },
   "outputs": [],
   "source": [
    "df = pd.read_csv(r\"C:\\Users\\rache\\OneDrive\\Documents\\IS 362 - Flight Info.csv\")"
   ]
  },
  {
   "cell_type": "markdown",
   "metadata": {
    "id": "a9KAEDrZH3UQ"
   },
   "source": [
    "First I looked at the data from the cvs file to see what information may not be needed such as the zero values."
   ]
  },
  {
   "cell_type": "code",
   "execution_count": 4,
   "metadata": {
    "id": "dv9idTJi6f34"
   },
   "outputs": [
    {
     "data": {
      "text/html": [
       "<div>\n",
       "<style scoped>\n",
       "    .dataframe tbody tr th:only-of-type {\n",
       "        vertical-align: middle;\n",
       "    }\n",
       "\n",
       "    .dataframe tbody tr th {\n",
       "        vertical-align: top;\n",
       "    }\n",
       "\n",
       "    .dataframe thead th {\n",
       "        text-align: right;\n",
       "    }\n",
       "</style>\n",
       "<table border=\"1\" class=\"dataframe\">\n",
       "  <thead>\n",
       "    <tr style=\"text-align: right;\">\n",
       "      <th></th>\n",
       "      <th>Unnamed: 0</th>\n",
       "      <th>Unnamed: 1</th>\n",
       "      <th>Los Angeles</th>\n",
       "      <th>Phoenix</th>\n",
       "      <th>San Diego</th>\n",
       "      <th>San Francisco</th>\n",
       "      <th>Seattle</th>\n",
       "    </tr>\n",
       "  </thead>\n",
       "  <tbody>\n",
       "    <tr>\n",
       "      <th>0</th>\n",
       "      <td>ALASKA</td>\n",
       "      <td>on time</td>\n",
       "      <td>497.0</td>\n",
       "      <td>221</td>\n",
       "      <td>212.0</td>\n",
       "      <td>503.0</td>\n",
       "      <td>1,841</td>\n",
       "    </tr>\n",
       "    <tr>\n",
       "      <th>1</th>\n",
       "      <td>NaN</td>\n",
       "      <td>delayed</td>\n",
       "      <td>62.0</td>\n",
       "      <td>12</td>\n",
       "      <td>20.0</td>\n",
       "      <td>102.0</td>\n",
       "      <td>305</td>\n",
       "    </tr>\n",
       "    <tr>\n",
       "      <th>2</th>\n",
       "      <td>NaN</td>\n",
       "      <td>NaN</td>\n",
       "      <td>NaN</td>\n",
       "      <td>NaN</td>\n",
       "      <td>NaN</td>\n",
       "      <td>NaN</td>\n",
       "      <td>NaN</td>\n",
       "    </tr>\n",
       "    <tr>\n",
       "      <th>3</th>\n",
       "      <td>AM WEST</td>\n",
       "      <td>on time</td>\n",
       "      <td>694.0</td>\n",
       "      <td>4,840</td>\n",
       "      <td>383.0</td>\n",
       "      <td>320.0</td>\n",
       "      <td>201</td>\n",
       "    </tr>\n",
       "    <tr>\n",
       "      <th>4</th>\n",
       "      <td>NaN</td>\n",
       "      <td>delayed</td>\n",
       "      <td>117.0</td>\n",
       "      <td>415</td>\n",
       "      <td>65.0</td>\n",
       "      <td>129.0</td>\n",
       "      <td>61</td>\n",
       "    </tr>\n",
       "  </tbody>\n",
       "</table>\n",
       "</div>"
      ],
      "text/plain": [
       "  Unnamed: 0 Unnamed: 1  Los Angeles Phoenix  San Diego  San Francisco Seattle\n",
       "0     ALASKA    on time        497.0     221      212.0          503.0   1,841\n",
       "1        NaN    delayed         62.0      12       20.0          102.0     305\n",
       "2        NaN        NaN          NaN     NaN        NaN            NaN     NaN\n",
       "3    AM WEST    on time        694.0   4,840      383.0          320.0     201\n",
       "4        NaN    delayed        117.0     415       65.0          129.0      61"
      ]
     },
     "execution_count": 4,
     "metadata": {},
     "output_type": "execute_result"
    }
   ],
   "source": [
    "df.head()"
   ]
  },
  {
   "cell_type": "code",
   "execution_count": 5,
   "metadata": {
    "id": "99dUCt94EO_n"
   },
   "outputs": [
    {
     "name": "stdout",
     "output_type": "stream",
     "text": [
      "<class 'pandas.core.frame.DataFrame'>\n",
      "RangeIndex: 5 entries, 0 to 4\n",
      "Data columns (total 7 columns):\n",
      " #   Column         Non-Null Count  Dtype  \n",
      "---  ------         --------------  -----  \n",
      " 0   Unnamed: 0     2 non-null      object \n",
      " 1   Unnamed: 1     4 non-null      object \n",
      " 2   Los Angeles    4 non-null      float64\n",
      " 3   Phoenix        4 non-null      object \n",
      " 4   San Diego      4 non-null      float64\n",
      " 5   San Francisco  4 non-null      float64\n",
      " 6   Seattle        4 non-null      object \n",
      "dtypes: float64(3), object(4)\n",
      "memory usage: 412.0+ bytes\n"
     ]
    }
   ],
   "source": [
    "df.info()"
   ]
  },
  {
   "cell_type": "markdown",
   "metadata": {
    "id": "WWshT18wIYNw"
   },
   "source": [
    "Dropping the empty rows and renaming the columns. Also replacing the NaN values with the correct airline information so everything looks cleaner."
   ]
  },
  {
   "cell_type": "code",
   "execution_count": 6,
   "metadata": {
    "id": "fDCvZg_kGtsP"
   },
   "outputs": [
    {
     "name": "stdout",
     "output_type": "stream",
     "text": [
      "   Airline   Status  Los Angeles Phoenix  San Diego  San Francisco Seattle\n",
      "0   ALASKA  on time        497.0     221      212.0          503.0   1,841\n",
      "1      NaN  delayed         62.0      12       20.0          102.0     305\n",
      "3  AM WEST  on time        694.0   4,840      383.0          320.0     201\n",
      "4      NaN  delayed        117.0     415       65.0          129.0      61\n"
     ]
    }
   ],
   "source": [
    "df = df.rename(columns={'Unnamed: 0': 'Airline', 'Unnamed: 1': 'Status'})\n",
    "\n",
    "df.dropna(how='all', inplace=True)\n",
    "\n",
    "print(df)"
   ]
  },
  {
   "cell_type": "code",
   "execution_count": 7,
   "metadata": {
    "id": "DTLmsi6sJ1h6"
   },
   "outputs": [
    {
     "name": "stdout",
     "output_type": "stream",
     "text": [
      "   Airline   Status  Los Angeles Phoenix  San Diego  San Francisco Seattle\n",
      "0   ALASKA  on time        497.0     221      212.0          503.0   1,841\n",
      "1   ALASKA  delayed         62.0      12       20.0          102.0     305\n",
      "3  AM WEST  on time        694.0   4,840      383.0          320.0     201\n",
      "4  AM WEST  delayed        117.0     415       65.0          129.0      61\n"
     ]
    }
   ],
   "source": [
    "df[\"Airline\"] = df[\"Airline\"].ffill()\n",
    "print(df)"
   ]
  },
  {
   "cell_type": "code",
   "execution_count": 8,
   "metadata": {
    "id": "2P6A5WNKLR56"
   },
   "outputs": [
    {
     "name": "stdout",
     "output_type": "stream",
     "text": [
      "\n",
      "Long format data:\n",
      "   Airline   Status  Destination  Flights\n",
      "0   ALASKA  on time  Los Angeles      497\n",
      "1   ALASKA  delayed  Los Angeles       62\n",
      "2  AM WEST  on time  Los Angeles      694\n",
      "3  AM WEST  delayed  Los Angeles      117\n",
      "4   ALASKA  on time      Phoenix      221\n",
      "5   ALASKA  delayed      Phoenix       12\n",
      "6  AM WEST  on time      Phoenix     4840\n",
      "7  AM WEST  delayed      Phoenix      415\n",
      "8   ALASKA  on time    San Diego      212\n",
      "9   ALASKA  delayed    San Diego       20\n"
     ]
    }
   ],
   "source": [
    "df_long = df.melt(id_vars=[\"Airline\", \"Status\"],\n",
    "                  var_name=\"Destination\",\n",
    "                  value_name=\"Flights\")\n",
    "\n",
    "df_long[\"Flights\"] = df_long[\"Flights\"].astype(str).str.replace(\",\", \"\", regex=False)\n",
    "df_long[\"Flights\"] = pd.to_numeric(df_long[\"Flights\"]).astype(int)\n",
    "\n",
    "print(\"\\nLong format data:\")\n",
    "print(df_long.head(10))"
   ]
  },
  {
   "cell_type": "markdown",
   "metadata": {
    "id": "a9vDDehzM_Ny"
   },
   "source": [
    "Compare delayed and on time flights:"
   ]
  },
  {
   "cell_type": "code",
   "execution_count": 9,
   "metadata": {
    "id": "jmCMDkPKL6Mc"
   },
   "outputs": [
    {
     "name": "stdout",
     "output_type": "stream",
     "text": [
      "Comparison of On-Time vs Delayed Flights:\n",
      "    Status  Flights\n",
      "0  delayed     1288\n",
      "1  on time     9712\n"
     ]
    }
   ],
   "source": [
    "flight_status_comparison = df_long.groupby('Status')['Flights'].sum().reset_index()\n",
    "print(\"Comparison of On-Time vs Delayed Flights:\")\n",
    "print(flight_status_comparison)"
   ]
  },
  {
   "cell_type": "markdown",
   "metadata": {
    "id": "z6ZUJEOCOPfx"
   },
   "source": [
    "Compare performance based on the airline and destination:"
   ]
  },
  {
   "cell_type": "code",
   "execution_count": 10,
   "metadata": {
    "id": "8YVJtNR7ON-d"
   },
   "outputs": [
    {
     "name": "stdout",
     "output_type": "stream",
     "text": [
      "\n",
      "Airline Performance:\n",
      "Status   delayed  on time  Total Flights  On-Time %\n",
      "Airline                                            \n",
      "ALASKA       501     3274           3775  86.728477\n",
      "AM WEST      787     6438           7225  89.107266\n"
     ]
    }
   ],
   "source": [
    "airline_summary = df_long.groupby([\"Airline\", \"Status\"])[\"Flights\"].sum().unstack()\n",
    "airline_summary[\"Total Flights\"] = airline_summary[\"on time\"] + airline_summary[\"delayed\"]\n",
    "airline_summary[\"On-Time %\"] = (airline_summary[\"on time\"] / airline_summary[\"Total Flights\"]) * 100\n",
    "\n",
    "print(\"\\nAirline Performance:\")\n",
    "print(airline_summary)\n"
   ]
  },
  {
   "cell_type": "code",
   "execution_count": 30,
   "metadata": {
    "id": "djDzzcrjPr1U"
   },
   "outputs": [
    {
     "name": "stdout",
     "output_type": "stream",
     "text": [
      "\n",
      "Destination Performance:\n",
      "Status                 delayed  on time  Total Flights  On-Time %\n",
      "Destination   Airline                                            \n",
      "Los Angeles   ALASKA        62      497            559  88.908766\n",
      "              AM WEST      117      694            811  85.573366\n",
      "Phoenix       ALASKA        12      221            233  94.849785\n",
      "              AM WEST      415     4840           5255  92.102759\n",
      "San Diego     ALASKA        20      212            232  91.379310\n",
      "              AM WEST       65      383            448  85.491071\n",
      "San Francisco ALASKA       102      503            605  83.140496\n",
      "              AM WEST      129      320            449  71.269488\n",
      "Seattle       ALASKA       305     1841           2146  85.787512\n",
      "              AM WEST       61      201            262  76.717557\n"
     ]
    }
   ],
   "source": [
    "dest_summary = df_long.groupby([\"Destination\", \"Airline\", \"Status\"])[\"Flights\"].sum().unstack().fillna(0)\n",
    "dest_summary[\"Total Flights\"] = dest_summary[\"on time\"] + dest_summary[\"delayed\"]\n",
    "dest_summary[\"On-Time %\"] = (dest_summary[\"on time\"] / dest_summary[\"Total Flights\"]) * 100\n",
    "\n",
    "print(\"\\nDestination Performance:\")\n",
    "print(dest_summary)\n"
   ]
  },
  {
   "cell_type": "markdown",
   "metadata": {
    "id": "Uu_Qzk60P9q6"
   },
   "source": [
    "Visualizations:"
   ]
  },
  {
   "cell_type": "code",
   "execution_count": 31,
   "metadata": {
    "id": "qQ8nEGClQK5R"
   },
   "outputs": [
    {
     "data": {
      "image/png": "[encoded data removed]",
      "text/plain": [
       "<Figure size 600x400 with 1 Axes>"
      ]
     },
     "metadata": {},
     "output_type": "display_data"
    }
   ],
   "source": [
    "airline_summary[[\"on time\", \"delayed\"]].plot(kind=\"bar\", stacked=True, figsize=(6,4))\n",
    "plt.title(\"On-Time vs Delayed Flights by Airline\")\n",
    "plt.ylabel(\"Flights\")\n",
    "plt.show()"
   ]
  },
  {
   "cell_type": "code",
   "execution_count": 11,
   "metadata": {
    "id": "CHMpAxH0QM3t"
   },
   "outputs": [
    {
     "data": {
      "image/png": "[encoded data removed]",
      "text/plain": [
       "<Figure size 640x480 with 1 Axes>"
      ]
     },
     "metadata": {},
     "output_type": "display_data"
    }
   ],
   "source": [
    "airline_summary[\"On-Time %\"].plot(kind=\"bar\", color=[\"purple\", \"lightgreen\"])\n",
    "plt.title(\"On-Time Percentage by Airline\")\n",
    "plt.ylabel(\"Percentage\")\n",
    "plt.show()"
   ]
  },
  {
   "cell_type": "code",
   "execution_count": 15,
   "metadata": {
    "id": "Ml-M5BG3QR_Z"
   },
   "outputs": [
    {
     "ename": "NameError",
     "evalue": "name 'dest_summary' is not defined",
     "output_type": "error",
     "traceback": [
      "\u001b[1;31m---------------------------------------------------------------------------\u001b[0m",
      "\u001b[1;31mNameError\u001b[0m                                 Traceback (most recent call last)",
      "Cell \u001b[1;32mIn[15], line 1\u001b[0m\n\u001b[1;32m----> 1\u001b[0m dest_summary_reset \u001b[38;5;241m=\u001b[39m \u001b[43mdest_summary\u001b[49m\u001b[38;5;241m.\u001b[39mreset_index()\n\u001b[0;32m      3\u001b[0m dest_summary_reset\u001b[38;5;241m.\u001b[39mpivot(\n\u001b[0;32m      4\u001b[0m     index\u001b[38;5;241m=\u001b[39m\u001b[38;5;124m\"\u001b[39m\u001b[38;5;124mDestination\u001b[39m\u001b[38;5;124m\"\u001b[39m, \n\u001b[0;32m      5\u001b[0m     columns\u001b[38;5;241m=\u001b[39m\u001b[38;5;124m\"\u001b[39m\u001b[38;5;124mAirline\u001b[39m\u001b[38;5;124m\"\u001b[39m, \n\u001b[0;32m      6\u001b[0m     values\u001b[38;5;241m=\u001b[39m\u001b[38;5;124m\"\u001b[39m\u001b[38;5;124mon time\u001b[39m\u001b[38;5;124m\"\u001b[39m\n\u001b[0;32m      7\u001b[0m )\u001b[38;5;241m.\u001b[39mplot(kind\u001b[38;5;241m=\u001b[39m\u001b[38;5;124m\"\u001b[39m\u001b[38;5;124mbar\u001b[39m\u001b[38;5;124m\"\u001b[39m, figsize\u001b[38;5;241m=\u001b[39m(\u001b[38;5;241m10\u001b[39m,\u001b[38;5;241m5\u001b[39m))\n\u001b[0;32m      9\u001b[0m plt\u001b[38;5;241m.\u001b[39mtitle(\u001b[38;5;124m\"\u001b[39m\u001b[38;5;124mOn-Time Flights by Destination and Airline\u001b[39m\u001b[38;5;124m\"\u001b[39m)\n",
      "\u001b[1;31mNameError\u001b[0m: name 'dest_summary' is not defined"
     ]
    }
   ],
   "source": [
    "dest_summary_reset = dest_summary.reset_index()\n",
    "\n",
    "dest_summary_reset.pivot(\n",
    "    index=\"Destination\", \n",
    "    columns=\"Airline\", \n",
    "    values=\"on time\"\n",
    ").plot(kind=\"bar\", figsize=(10,5))\n",
    "\n",
    "plt.title(\"On-Time Flights by Destination and Airline\")\n",
    "plt.ylabel(\"Flights\")\n",
    "plt.show()"
   ]
  },
  {
   "cell_type": "markdown",
   "metadata": {
    "id": "qNwGmbGsWKfV"
   },
   "source": [
    "**CONCLUSION**:\n",
    "\n",
    "Overall, AM West has more on-time flights, with 89% of their flights arriving on time compared to Alaska, which had 86% on-time flights. However, in Seattle, Alaska had more on-time flights than AM West. Interestingly, AM West also had both the highest number of on-time flights and the highest number of delayed flights, with 6,438 on-time flights and 787 delayed flights. Overall, this shows that having more on-time flights does not necessarily mean an airline will have fewer delays."
   ]
  }
 ],
 "metadata": {
  "colab": {
   "provenance": []
  },
  "kernelspec": {
   "display_name": "Python 3 (ipykernel)",
   "language": "python",
   "name": "python3"
  },
  "language_info": {
   "codemirror_mode": {
    "name": "ipython",
    "version": 3
   },
   "file_extension": ".py",
   "mimetype": "text/x-python",
   "name": "python",
   "nbconvert_exporter": "python",
   "pygments_lexer": "ipython3",
   "version": "3.13.1"
  }
 },
 "nbformat": 4,
 "nbformat_minor": 4
}
