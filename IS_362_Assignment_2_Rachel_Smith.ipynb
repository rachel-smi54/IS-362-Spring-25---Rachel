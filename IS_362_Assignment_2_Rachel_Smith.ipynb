{
  "nbformat": 4,
  "nbformat_minor": 0,
  "metadata": {
    "colab": {
      "provenance": []
    },
    "kernelspec": {
      "name": "python3",
      "display_name": "Python 3"
    },
    "language_info": {
      "name": "python"
    }
  },
  "cells": [
    {
      "cell_type": "markdown",
      "source": [
        "# **Introduction:**"
      ],
      "metadata": {
        "id": "I2M_dKY_PbE9"
      }
    },
    {
      "cell_type": "markdown",
      "source": [
        "So far throughout my college career, I have only taken two courses that were directly related to Python. In those classes, most of the functions and data structures I used were dictionaries, lists, and tuples. One area where I only had limited exposure is working with Pandas and using the zip() function. With Pandas, my experience has mostly been focused on data cleaning tasks such as checking for and handling missing values. I haven’t gone much deeper into its more advanced functionality, like merging datasets. As for the zip() function, I haven’t really used it in practice, but while doing some research I found it interesting and useful. What I’m still unsure about is knowing when it’s best to apply zip() compared to other approaches, such as loops or comprehensions. From what I’ve learned so far, zip() is particularly helpful when I want to combine multiple iterables (like lists or tuples) into pairs or tuples, making it easier to iterate through them together. I think getting more comfortable with when and how to use it would make my Python coding more efficient.\n"
      ],
      "metadata": {
        "id": "N1aZdxcNIGcZ"
      }
    },
    {
      "cell_type": "markdown",
      "source": [
        "# **Code:**"
      ],
      "metadata": {
        "id": "uQ6H2_2dPpLE"
      }
    },
    {
      "cell_type": "code",
      "source": [
        "foods = [\"Pizza\", \"Burger\", \"Sushi\", \"Salad\", \"Tacos\"]\n",
        "prices = [12.99, 8.50, 15.75, 9.25, 11.00]\n",
        "\n",
        "\n",
        "menu = list(zip(foods, prices))\n",
        "\n",
        "print(\"Menu items with prices:\")\n",
        "print(menu)\n",
        "\n",
        "\n",
        "for food, price in zip(foods, prices):\n",
        "    print(f\"{food}: ${price}\")\n"
      ],
      "metadata": {
        "colab": {
          "base_uri": "https://localhost:8080/"
        },
        "id": "RUSpvRaJPvYh",
        "outputId": "93b4e326-18e6-46c0-b4ce-2a448cc20889"
      },
      "execution_count": 1,
      "outputs": [
        {
          "output_type": "stream",
          "name": "stdout",
          "text": [
            "Menu items with prices:\n",
            "[('Pizza', 12.99), ('Burger', 8.5), ('Sushi', 15.75), ('Salad', 9.25), ('Tacos', 11.0)]\n",
            "Pizza: $12.99\n",
            "Burger: $8.5\n",
            "Sushi: $15.75\n",
            "Salad: $9.25\n",
            "Tacos: $11.0\n"
          ]
        }
      ]
    },
    {
      "cell_type": "markdown",
      "source": [
        "# **Conclusion:**"
      ],
      "metadata": {
        "id": "xpGiesNVQuVQ"
      }
    },
    {
      "cell_type": "markdown",
      "source": [
        "The zip() function is something I would like to continue learning about. Right now, I tend to focus more on getting the end result rather than thinking about how efficient or clean code looks. However, I realize that writing code in a more seamless and efficient way is an important skill to develop, and I think practicing with functions like zip() will help me build that skill set."
      ],
      "metadata": {
        "id": "ojhubjhyQzem"
      }
    }
  ]
}