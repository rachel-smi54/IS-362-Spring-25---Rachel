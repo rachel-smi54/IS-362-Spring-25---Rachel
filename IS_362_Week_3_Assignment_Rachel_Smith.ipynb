{
  "nbformat": 4,
  "nbformat_minor": 0,
  "metadata": {
    "colab": {
      "provenance": []
    },
    "kernelspec": {
      "name": "python3",
      "display_name": "Python 3"
    },
    "language_info": {
      "name": "python"
    }
  },
  "cells": [
    {
      "cell_type": "markdown",
      "source": [
        "Suppose you have ridden a bicycle from New York City to Key West, Florida.  Your bicycle odometer shows the total miles, which you have dutifully logged at the end of each day with paper and pencil.  Your first two entries might be 55 and 120, indicating that you rode your bike 55 miles on day 1 and 65 miles on day 2.  Your task is to create a pandas Series object that holds the cumulative miles at the end of each day, then use your Python skills to show the total miles that you rode each day.  Consider how you should best present this information in a Jupyter notebook.  You should save your Jupyter Notebook to your GitHub repository, and provide a link in your assignment submission.\n",
        "\n"
      ],
      "metadata": {
        "id": "TCGPvTa4OPlz"
      }
    },
    {
      "cell_type": "code",
      "source": [
        "import pandas as pd\n",
        "import numpy as np"
      ],
      "metadata": {
        "id": "pxQNoPKiPEs-"
      },
      "execution_count": null,
      "outputs": []
    },
    {
      "cell_type": "code",
      "source": [
        "Dict_bike = {'Day 1': 55, 'Day 2': 65, 'Day 3': 70, 'Day 4': 65}\n",
        "\n",
        "Dict_bike"
      ],
      "metadata": {
        "id": "M_04XXteOXEJ"
      },
      "execution_count": null,
      "outputs": []
    },
    {
      "cell_type": "code",
      "source": [
        "daily = pd.Series(Dict_bike)\n",
        "daily\n",
        "\n",
        "Cumalatives = daily.cumsum()\n",
        "Cumalatives"
      ],
      "metadata": {
        "id": "WDBj2AbjSwtO"
      },
      "execution_count": null,
      "outputs": []
    },
    {
      "cell_type": "code",
      "source": [
        "bike_log = pd.DataFrame ({'Daily Miles': daily, 'Cumulative Miles': Cumalatives})\n",
        "bike_log"
      ],
      "metadata": {
        "id": "lTj9h-q2THFJ"
      },
      "execution_count": null,
      "outputs": []
    }
  ]
}